{
 "cells": [
  {
   "cell_type": "markdown",
   "id": "1bf3ee53-d9c0-40fb-8d14-93e374f55a2b",
   "metadata": {},
   "source": [
    "# Polars & DuckDB: When Pandas Wont Cut It\n",
    "--------------------------"
   ]
  },
  {
   "cell_type": "code",
   "execution_count": null,
   "id": "453750b5-bffc-4217-a474-3234c63831e4",
   "metadata": {},
   "outputs": [],
   "source": []
  },
  {
   "cell_type": "code",
   "execution_count": 1,
   "id": "69f5f19a-7dfe-4df4-897a-637435677495",
   "metadata": {},
   "outputs": [],
   "source": [
    "import polars as pl"
   ]
  },
  {
   "cell_type": "code",
   "execution_count": 2,
   "id": "0694c4ec-eb01-459b-b69b-fd2e446faec0",
   "metadata": {},
   "outputs": [],
   "source": [
    "df = pl.read_csv(\"https://data.cityofnewyork.us/resource/h9gi-nx95.csv\")"
   ]
  },
  {
   "cell_type": "code",
   "execution_count": 3,
   "id": "91d4fb7f-77a7-4b01-b848-7cedaac6d89a",
   "metadata": {},
   "outputs": [
    {
     "data": {
      "text/html": [
       "<div><style>\n",
       ".dataframe > thead > tr > th,\n",
       ".dataframe > tbody > tr > td {\n",
       "  text-align: right;\n",
       "}\n",
       "</style>\n",
       "<small>shape: (2, 29)</small><table border=\"1\" class=\"dataframe\"><thead><tr><th>crash_date</th><th>crash_time</th><th>borough</th><th>zip_code</th><th>latitude</th><th>longitude</th><th>location</th><th>on_street_name</th><th>off_street_name</th><th>cross_street_name</th><th>number_of_persons_injured</th><th>number_of_persons_killed</th><th>number_of_pedestrians_injured</th><th>number_of_pedestrians_killed</th><th>number_of_cyclist_injured</th><th>number_of_cyclist_killed</th><th>number_of_motorist_injured</th><th>number_of_motorist_killed</th><th>contributing_factor_vehicle_1</th><th>contributing_factor_vehicle_2</th><th>contributing_factor_vehicle_3</th><th>contributing_factor_vehicle_4</th><th>contributing_factor_vehicle_5</th><th>collision_id</th><th>vehicle_type_code1</th><th>vehicle_type_code2</th><th>vehicle_type_code_3</th><th>vehicle_type_code_4</th><th>vehicle_type_code_5</th></tr><tr><td>str</td><td>str</td><td>str</td><td>i64</td><td>f64</td><td>f64</td><td>str</td><td>str</td><td>str</td><td>str</td><td>i64</td><td>i64</td><td>i64</td><td>i64</td><td>i64</td><td>i64</td><td>i64</td><td>i64</td><td>str</td><td>str</td><td>str</td><td>str</td><td>str</td><td>i64</td><td>str</td><td>str</td><td>str</td><td>str</td><td>str</td></tr></thead><tbody><tr><td>&quot;2021-09-11T00:…</td><td>&quot;2:39&quot;</td><td>null</td><td>null</td><td>null</td><td>null</td><td>null</td><td>&quot;WHITESTONE EXP…</td><td>&quot;20 AVENUE&quot;</td><td>null</td><td>2</td><td>0</td><td>0</td><td>0</td><td>0</td><td>0</td><td>2</td><td>0</td><td>&quot;Aggressive Dri…</td><td>&quot;Unspecified&quot;</td><td>null</td><td>null</td><td>null</td><td>4455765</td><td>&quot;Sedan&quot;</td><td>&quot;Sedan&quot;</td><td>null</td><td>null</td><td>null</td></tr><tr><td>&quot;2022-03-26T00:…</td><td>&quot;11:45&quot;</td><td>null</td><td>null</td><td>null</td><td>null</td><td>null</td><td>&quot;QUEENSBORO BRI…</td><td>null</td><td>null</td><td>1</td><td>0</td><td>0</td><td>0</td><td>0</td><td>0</td><td>1</td><td>0</td><td>&quot;Pavement Slipp…</td><td>null</td><td>null</td><td>null</td><td>null</td><td>4513547</td><td>&quot;Sedan&quot;</td><td>null</td><td>null</td><td>null</td><td>null</td></tr></tbody></table></div>"
      ],
      "text/plain": [
       "shape: (2, 29)\n",
       "┌────────────┬────────────┬─────────┬──────────┬───┬───────────┬───────────┬───────────┬───────────┐\n",
       "│ crash_date ┆ crash_time ┆ borough ┆ zip_code ┆ … ┆ vehicle_t ┆ vehicle_t ┆ vehicle_t ┆ vehicle_t │\n",
       "│ ---        ┆ ---        ┆ ---     ┆ ---      ┆   ┆ ype_code2 ┆ ype_code_ ┆ ype_code_ ┆ ype_code_ │\n",
       "│ str        ┆ str        ┆ str     ┆ i64      ┆   ┆ ---       ┆ 3         ┆ 4         ┆ 5         │\n",
       "│            ┆            ┆         ┆          ┆   ┆ str       ┆ ---       ┆ ---       ┆ ---       │\n",
       "│            ┆            ┆         ┆          ┆   ┆           ┆ str       ┆ str       ┆ str       │\n",
       "╞════════════╪════════════╪═════════╪══════════╪═══╪═══════════╪═══════════╪═══════════╪═══════════╡\n",
       "│ 2021-09-11 ┆ 2:39       ┆ null    ┆ null     ┆ … ┆ Sedan     ┆ null      ┆ null      ┆ null      │\n",
       "│ T00:00:00. ┆            ┆         ┆          ┆   ┆           ┆           ┆           ┆           │\n",
       "│ 000        ┆            ┆         ┆          ┆   ┆           ┆           ┆           ┆           │\n",
       "│ 2022-03-26 ┆ 11:45      ┆ null    ┆ null     ┆ … ┆ null      ┆ null      ┆ null      ┆ null      │\n",
       "│ T00:00:00. ┆            ┆         ┆          ┆   ┆           ┆           ┆           ┆           │\n",
       "│ 000        ┆            ┆         ┆          ┆   ┆           ┆           ┆           ┆           │\n",
       "└────────────┴────────────┴─────────┴──────────┴───┴───────────┴───────────┴───────────┴───────────┘"
      ]
     },
     "execution_count": 3,
     "metadata": {},
     "output_type": "execute_result"
    }
   ],
   "source": [
    "df.head(2)"
   ]
  },
  {
   "cell_type": "code",
   "execution_count": 63,
   "id": "dafbf2d6-58ac-47d9-982d-5e9fc58aa709",
   "metadata": {},
   "outputs": [
    {
     "data": {
      "text/plain": [
       "{'crash_date': Utf8,\n",
       " 'crash_time': Utf8,\n",
       " 'borough': Utf8,\n",
       " 'zip_code': Int64,\n",
       " 'latitude': Float64,\n",
       " 'longitude': Float64,\n",
       " 'location': Utf8,\n",
       " 'on_street_name': Utf8,\n",
       " 'off_street_name': Utf8,\n",
       " 'cross_street_name': Utf8,\n",
       " 'number_of_persons_injured': Int64,\n",
       " 'number_of_persons_killed': Int64,\n",
       " 'number_of_pedestrians_injured': Int64,\n",
       " 'number_of_pedestrians_killed': Int64,\n",
       " 'number_of_cyclist_injured': Int64,\n",
       " 'number_of_cyclist_killed': Int64,\n",
       " 'number_of_motorist_injured': Int64,\n",
       " 'number_of_motorist_killed': Int64,\n",
       " 'contributing_factor_vehicle_1': Utf8,\n",
       " 'contributing_factor_vehicle_2': Utf8,\n",
       " 'contributing_factor_vehicle_3': Utf8,\n",
       " 'contributing_factor_vehicle_4': Utf8,\n",
       " 'contributing_factor_vehicle_5': Utf8,\n",
       " 'collision_id': Int64,\n",
       " 'vehicle_type_code1': Utf8,\n",
       " 'vehicle_type_code2': Utf8,\n",
       " 'vehicle_type_code_3': Utf8,\n",
       " 'vehicle_type_code_4': Utf8,\n",
       " 'vehicle_type_code_5': Utf8}"
      ]
     },
     "execution_count": 63,
     "metadata": {},
     "output_type": "execute_result"
    }
   ],
   "source": [
    "df.schema"
   ]
  },
  {
   "cell_type": "code",
   "execution_count": 64,
   "id": "3a16fb05-51e1-4697-a72e-e96eefd28c9e",
   "metadata": {},
   "outputs": [
    {
     "data": {
      "text/html": [
       "<div><style>\n",
       ".dataframe > thead > tr > th,\n",
       ".dataframe > tbody > tr > td {\n",
       "  text-align: right;\n",
       "}\n",
       "</style>\n",
       "<small>shape: (0, 2)</small><table border=\"1\" class=\"dataframe\"><thead><tr><th>collision_id</th><th>count</th></tr><tr><td>i64</td><td>u32</td></tr></thead><tbody></tbody></table></div>"
      ],
      "text/plain": [
       "shape: (0, 2)\n",
       "┌──────────────┬───────┐\n",
       "│ collision_id ┆ count │\n",
       "│ ---          ┆ ---   │\n",
       "│ i64          ┆ u32   │\n",
       "╞══════════════╪═══════╡\n",
       "└──────────────┴───────┘"
      ]
     },
     "execution_count": 64,
     "metadata": {},
     "output_type": "execute_result"
    }
   ],
   "source": [
    "(df.groupby(\"collision_id\")\n",
    "   .count()\n",
    "   .filter(pl.col(\"count\") > 1))"
   ]
  },
  {
   "cell_type": "code",
   "execution_count": 65,
   "id": "e8c46a46-da02-4293-b10c-ca233b6f71a6",
   "metadata": {},
   "outputs": [
    {
     "ename": "AttributeError",
     "evalue": "'DataFrame' object has no attribute 'crash_date'",
     "output_type": "error",
     "traceback": [
      "\u001b[0;31m---------------------------------------------------------------------------\u001b[0m",
      "\u001b[0;31mAttributeError\u001b[0m                            Traceback (most recent call last)",
      "Cell \u001b[0;32mIn[65], line 1\u001b[0m\n\u001b[0;32m----> 1\u001b[0m \u001b[43mdf\u001b[49m\u001b[38;5;241;43m.\u001b[39;49m\u001b[43mcrash_date\u001b[49m\u001b[38;5;241m.\u001b[39mis_null()\n",
      "\u001b[0;31mAttributeError\u001b[0m: 'DataFrame' object has no attribute 'crash_date'"
     ]
    }
   ],
   "source": [
    "df.crash_date.is_null()"
   ]
  },
  {
   "cell_type": "code",
   "execution_count": 66,
   "id": "437add7e-f16c-46f4-b6df-f1c98e00ab96",
   "metadata": {},
   "outputs": [
    {
     "data": {
      "text/plain": [
       "False"
      ]
     },
     "execution_count": 66,
     "metadata": {},
     "output_type": "execute_result"
    }
   ],
   "source": [
    "df[\"crash_date\"].is_null().any()"
   ]
  },
  {
   "cell_type": "code",
   "execution_count": 67,
   "id": "d1690a44-9e14-4164-92ae-6d88010b80be",
   "metadata": {},
   "outputs": [
    {
     "data": {
      "text/plain": [
       "'2021-09-11T00:00:00.000'"
      ]
     },
     "execution_count": 67,
     "metadata": {},
     "output_type": "execute_result"
    }
   ],
   "source": [
    "df['crash_date'][0]"
   ]
  },
  {
   "cell_type": "code",
   "execution_count": 72,
   "id": "d0f3b0ae-9f70-4504-a74b-f2823ac1bd41",
   "metadata": {},
   "outputs": [
    {
     "data": {
      "text/html": [
       "<div><style>\n",
       ".dataframe > thead > tr > th,\n",
       ".dataframe > tbody > tr > td {\n",
       "  text-align: right;\n",
       "}\n",
       "</style>\n",
       "<small>shape: (5, 30)</small><table border=\"1\" class=\"dataframe\"><thead><tr><th>crash_date</th><th>crash_time</th><th>borough</th><th>zip_code</th><th>latitude</th><th>longitude</th><th>location</th><th>on_street_name</th><th>off_street_name</th><th>cross_street_name</th><th>number_of_persons_injured</th><th>number_of_persons_killed</th><th>number_of_pedestrians_injured</th><th>number_of_pedestrians_killed</th><th>number_of_cyclist_injured</th><th>number_of_cyclist_killed</th><th>number_of_motorist_injured</th><th>number_of_motorist_killed</th><th>contributing_factor_vehicle_1</th><th>contributing_factor_vehicle_2</th><th>contributing_factor_vehicle_3</th><th>contributing_factor_vehicle_4</th><th>contributing_factor_vehicle_5</th><th>collision_id</th><th>vehicle_type_code1</th><th>vehicle_type_code2</th><th>vehicle_type_code_3</th><th>vehicle_type_code_4</th><th>vehicle_type_code_5</th><th>crash_date_str</th></tr><tr><td>datetime[μs]</td><td>str</td><td>str</td><td>i64</td><td>f64</td><td>f64</td><td>str</td><td>str</td><td>str</td><td>str</td><td>i64</td><td>i64</td><td>i64</td><td>i64</td><td>i64</td><td>i64</td><td>i64</td><td>i64</td><td>str</td><td>str</td><td>str</td><td>str</td><td>str</td><td>i64</td><td>str</td><td>str</td><td>str</td><td>str</td><td>str</td><td>str</td></tr></thead><tbody><tr><td>2021-09-11 00:00:00</td><td>&quot;2:39&quot;</td><td>null</td><td>null</td><td>null</td><td>null</td><td>null</td><td>&quot;WHITESTONE EXP…</td><td>&quot;20 AVENUE&quot;</td><td>null</td><td>2</td><td>0</td><td>0</td><td>0</td><td>0</td><td>0</td><td>2</td><td>0</td><td>&quot;Aggressive Dri…</td><td>&quot;Unspecified&quot;</td><td>null</td><td>null</td><td>null</td><td>4455765</td><td>&quot;Sedan&quot;</td><td>&quot;Sedan&quot;</td><td>null</td><td>null</td><td>null</td><td>&quot;2021-09-11&quot;</td></tr><tr><td>2022-03-26 00:00:00</td><td>&quot;11:45&quot;</td><td>null</td><td>null</td><td>null</td><td>null</td><td>null</td><td>&quot;QUEENSBORO BRI…</td><td>null</td><td>null</td><td>1</td><td>0</td><td>0</td><td>0</td><td>0</td><td>0</td><td>1</td><td>0</td><td>&quot;Pavement Slipp…</td><td>null</td><td>null</td><td>null</td><td>null</td><td>4513547</td><td>&quot;Sedan&quot;</td><td>null</td><td>null</td><td>null</td><td>null</td><td>&quot;2022-03-26&quot;</td></tr><tr><td>2022-06-29 00:00:00</td><td>&quot;6:55&quot;</td><td>null</td><td>null</td><td>null</td><td>null</td><td>null</td><td>&quot;THROGS NECK BR…</td><td>null</td><td>null</td><td>0</td><td>0</td><td>0</td><td>0</td><td>0</td><td>0</td><td>0</td><td>0</td><td>&quot;Following Too …</td><td>&quot;Unspecified&quot;</td><td>null</td><td>null</td><td>null</td><td>4541903</td><td>&quot;Sedan&quot;</td><td>&quot;Pick-up Truck&quot;</td><td>null</td><td>null</td><td>null</td><td>&quot;2022-06-29&quot;</td></tr><tr><td>2021-09-11 00:00:00</td><td>&quot;9:35&quot;</td><td>&quot;BROOKLYN&quot;</td><td>11208</td><td>40.667202</td><td>-73.8665</td><td>&quot;\n",
       ",  \n",
       "(40.66720…</td><td>null</td><td>null</td><td>&quot;1211      LORI…</td><td>0</td><td>0</td><td>0</td><td>0</td><td>0</td><td>0</td><td>0</td><td>0</td><td>&quot;Unspecified&quot;</td><td>null</td><td>null</td><td>null</td><td>null</td><td>4456314</td><td>&quot;Sedan&quot;</td><td>null</td><td>null</td><td>null</td><td>null</td><td>&quot;2021-09-11&quot;</td></tr><tr><td>2021-12-14 00:00:00</td><td>&quot;8:13&quot;</td><td>&quot;BROOKLYN&quot;</td><td>11233</td><td>40.683304</td><td>-73.917274</td><td>&quot;\n",
       ",  \n",
       "(40.68330…</td><td>&quot;SARATOGA AVENU…</td><td>&quot;DECATUR STREET…</td><td>null</td><td>0</td><td>0</td><td>0</td><td>0</td><td>0</td><td>0</td><td>0</td><td>0</td><td>null</td><td>null</td><td>null</td><td>null</td><td>null</td><td>4486609</td><td>null</td><td>null</td><td>null</td><td>null</td><td>null</td><td>&quot;2021-12-14&quot;</td></tr></tbody></table></div>"
      ],
      "text/plain": [
       "shape: (5, 30)\n",
       "┌──────────┬──────────┬──────────┬──────────┬───┬────────────┬────────────┬────────────┬────────────┐\n",
       "│ crash_da ┆ crash_ti ┆ borough  ┆ zip_code ┆ … ┆ vehicle_ty ┆ vehicle_ty ┆ vehicle_ty ┆ crash_date │\n",
       "│ te       ┆ me       ┆ ---      ┆ ---      ┆   ┆ pe_code_3  ┆ pe_code_4  ┆ pe_code_5  ┆ _str       │\n",
       "│ ---      ┆ ---      ┆ str      ┆ i64      ┆   ┆ ---        ┆ ---        ┆ ---        ┆ ---        │\n",
       "│ datetime ┆ str      ┆          ┆          ┆   ┆ str        ┆ str        ┆ str        ┆ str        │\n",
       "│ [μs]     ┆          ┆          ┆          ┆   ┆            ┆            ┆            ┆            │\n",
       "╞══════════╪══════════╪══════════╪══════════╪═══╪════════════╪════════════╪════════════╪════════════╡\n",
       "│ 2021-09- ┆ 2:39     ┆ null     ┆ null     ┆ … ┆ null       ┆ null       ┆ null       ┆ 2021-09-11 │\n",
       "│ 11       ┆          ┆          ┆          ┆   ┆            ┆            ┆            ┆            │\n",
       "│ 00:00:00 ┆          ┆          ┆          ┆   ┆            ┆            ┆            ┆            │\n",
       "│ 2022-03- ┆ 11:45    ┆ null     ┆ null     ┆ … ┆ null       ┆ null       ┆ null       ┆ 2022-03-26 │\n",
       "│ 26       ┆          ┆          ┆          ┆   ┆            ┆            ┆            ┆            │\n",
       "│ 00:00:00 ┆          ┆          ┆          ┆   ┆            ┆            ┆            ┆            │\n",
       "│ 2022-06- ┆ 6:55     ┆ null     ┆ null     ┆ … ┆ null       ┆ null       ┆ null       ┆ 2022-06-29 │\n",
       "│ 29       ┆          ┆          ┆          ┆   ┆            ┆            ┆            ┆            │\n",
       "│ 00:00:00 ┆          ┆          ┆          ┆   ┆            ┆            ┆            ┆            │\n",
       "│ 2021-09- ┆ 9:35     ┆ BROOKLYN ┆ 11208    ┆ … ┆ null       ┆ null       ┆ null       ┆ 2021-09-11 │\n",
       "│ 11       ┆          ┆          ┆          ┆   ┆            ┆            ┆            ┆            │\n",
       "│ 00:00:00 ┆          ┆          ┆          ┆   ┆            ┆            ┆            ┆            │\n",
       "│ 2021-12- ┆ 8:13     ┆ BROOKLYN ┆ 11233    ┆ … ┆ null       ┆ null       ┆ null       ┆ 2021-12-14 │\n",
       "│ 14       ┆          ┆          ┆          ┆   ┆            ┆            ┆            ┆            │\n",
       "│ 00:00:00 ┆          ┆          ┆          ┆   ┆            ┆            ┆            ┆            │\n",
       "└──────────┴──────────┴──────────┴──────────┴───┴────────────┴────────────┴────────────┴────────────┘"
      ]
     },
     "execution_count": 72,
     "metadata": {},
     "output_type": "execute_result"
    }
   ],
   "source": [
    "df = df.with_columns(\n",
    "            pl.col(\"crash_date\").str.slice(0, length=10).alias(\"crash_date_str\")\n",
    "      ).with_columns(\n",
    "            pl.col(\"crash_date_str\").str.strptime(\n",
    "                pl.Datetime, \"%Y-%m-%d\", strict=False).alias(\"crash_date\")\n",
    ")\n",
    "\n",
    "df.head()"
   ]
  },
  {
   "cell_type": "code",
   "execution_count": 73,
   "id": "18b045c9-1ec2-4ebd-86fc-7fd13d700e1f",
   "metadata": {},
   "outputs": [
    {
     "data": {
      "text/html": [
       "<div><style>\n",
       ".dataframe > thead > tr > th,\n",
       ".dataframe > tbody > tr > td {\n",
       "  text-align: right;\n",
       "}\n",
       "</style>\n",
       "<small>shape: (6, 2)</small><table border=\"1\" class=\"dataframe\"><thead><tr><th>borough</th><th>count</th></tr><tr><td>str</td><td>u32</td></tr></thead><tbody><tr><td>&quot;QUEENS&quot;</td><td>154</td></tr><tr><td>&quot;BRONX&quot;</td><td>107</td></tr><tr><td>null</td><td>367</td></tr><tr><td>&quot;BROOKLYN&quot;</td><td>247</td></tr><tr><td>&quot;MANHATTAN&quot;</td><td>98</td></tr><tr><td>&quot;STATEN ISLAND&quot;</td><td>27</td></tr></tbody></table></div>"
      ],
      "text/plain": [
       "shape: (6, 2)\n",
       "┌───────────────┬───────┐\n",
       "│ borough       ┆ count │\n",
       "│ ---           ┆ ---   │\n",
       "│ str           ┆ u32   │\n",
       "╞═══════════════╪═══════╡\n",
       "│ QUEENS        ┆ 154   │\n",
       "│ BRONX         ┆ 107   │\n",
       "│ null          ┆ 367   │\n",
       "│ BROOKLYN      ┆ 247   │\n",
       "│ MANHATTAN     ┆ 98    │\n",
       "│ STATEN ISLAND ┆ 27    │\n",
       "└───────────────┴───────┘"
      ]
     },
     "execution_count": 73,
     "metadata": {},
     "output_type": "execute_result"
    }
   ],
   "source": [
    "df.groupby(\"borough\").count()"
   ]
  },
  {
   "cell_type": "code",
   "execution_count": 74,
   "id": "1682237a-b41e-4042-95e5-a4a5922b9088",
   "metadata": {},
   "outputs": [],
   "source": [
    "nn_df = df.filter(pl.col(\"borough\").is_not_null())"
   ]
  },
  {
   "cell_type": "code",
   "execution_count": 75,
   "id": "8e2dd6e6-8e72-430c-8160-cedbae02ca3c",
   "metadata": {},
   "outputs": [
    {
     "data": {
      "text/html": [
       "<div><style>\n",
       ".dataframe > thead > tr > th,\n",
       ".dataframe > tbody > tr > td {\n",
       "  text-align: right;\n",
       "}\n",
       "</style>\n",
       "<small>shape: (5, 1)</small><table border=\"1\" class=\"dataframe\"><thead><tr><th>borough</th></tr><tr><td>str</td></tr></thead><tbody><tr><td>&quot;BROOKLYN&quot;</td></tr><tr><td>&quot;MANHATTAN&quot;</td></tr><tr><td>&quot;QUEENS&quot;</td></tr><tr><td>&quot;BRONX&quot;</td></tr><tr><td>&quot;STATEN ISLAND&quot;</td></tr></tbody></table></div>"
      ],
      "text/plain": [
       "shape: (5, 1)\n",
       "┌───────────────┐\n",
       "│ borough       │\n",
       "│ ---           │\n",
       "│ str           │\n",
       "╞═══════════════╡\n",
       "│ BROOKLYN      │\n",
       "│ MANHATTAN     │\n",
       "│ QUEENS        │\n",
       "│ BRONX         │\n",
       "│ STATEN ISLAND │\n",
       "└───────────────┘"
      ]
     },
     "execution_count": 75,
     "metadata": {},
     "output_type": "execute_result"
    }
   ],
   "source": [
    "df.filter(pl.col(\"borough\").is_not_null()).select(\"borough\").unique()"
   ]
  },
  {
   "cell_type": "code",
   "execution_count": 76,
   "id": "dcf1932d-95f7-4efc-8681-acafb3d2e1ed",
   "metadata": {},
   "outputs": [],
   "source": [
    "borough_df = pl.DataFrame({\n",
    "                \"borough\": [\"BROOKLYN\", \"BRONX\", \"MANHATTAN\", \"STATEN ISLAND\", \"QUEENS\"],\n",
    "                \"population\": [2590516, 1379946, 1596273, 2278029, 378977],\n",
    "                \"area\":[179.7, 109.2, 58.68, 281.6, 149.0]\n",
    "})"
   ]
  },
  {
   "cell_type": "code",
   "execution_count": 77,
   "id": "06db93ed-9664-46aa-bae2-c6d05e0aeff0",
   "metadata": {},
   "outputs": [
    {
     "data": {
      "text/html": [
       "<div><style>\n",
       ".dataframe > thead > tr > th,\n",
       ".dataframe > tbody > tr > td {\n",
       "  text-align: right;\n",
       "}\n",
       "</style>\n",
       "<small>shape: (5, 2)</small><table border=\"1\" class=\"dataframe\"><thead><tr><th>borough</th><th>injuries_per_population</th></tr><tr><td>str</td><td>f64</td></tr></thead><tbody><tr><td>&quot;BROOKLYN&quot;</td><td>0.000045</td></tr><tr><td>&quot;BRONX&quot;</td><td>0.000033</td></tr><tr><td>&quot;MANHATTAN&quot;</td><td>0.000025</td></tr><tr><td>&quot;STATEN ISLAND&quot;</td><td>0.000007</td></tr><tr><td>&quot;QUEENS&quot;</td><td>0.000193</td></tr></tbody></table></div>"
      ],
      "text/plain": [
       "shape: (5, 2)\n",
       "┌───────────────┬─────────────────────────┐\n",
       "│ borough       ┆ injuries_per_population │\n",
       "│ ---           ┆ ---                     │\n",
       "│ str           ┆ f64                     │\n",
       "╞═══════════════╪═════════════════════════╡\n",
       "│ BROOKLYN      ┆ 0.000045                │\n",
       "│ BRONX         ┆ 0.000033                │\n",
       "│ MANHATTAN     ┆ 0.000025                │\n",
       "│ STATEN ISLAND ┆ 0.000007                │\n",
       "│ QUEENS        ┆ 0.000193                │\n",
       "└───────────────┴─────────────────────────┘"
      ]
     },
     "execution_count": 77,
     "metadata": {},
     "output_type": "execute_result"
    }
   ],
   "source": [
    "(df.filter(pl.col(\"borough\").is_not_null())\n",
    "   .select([\"borough\", \"number_of_persons_injured\"])\n",
    "   .groupby(\"borough\")\n",
    "   .sum()\n",
    "   .join(borough_df, on=[\"borough\"])\n",
    "   .select([\n",
    "       \"borough\", \n",
    "       (pl.col(\"number_of_persons_injured\") / pl.col(\"population\")).alias(\"injuries_per_population\")\n",
    "   ])\n",
    ")"
   ]
  },
  {
   "cell_type": "code",
   "execution_count": 120,
   "id": "57aa37a5-cff8-405f-a1be-b80c52cd73ab",
   "metadata": {},
   "outputs": [],
   "source": [
    "ctx = pl.SQLContext(crashes=df)"
   ]
  },
  {
   "cell_type": "code",
   "execution_count": null,
   "id": "02ef6f85-331c-4466-bc5f-0e07187f7b11",
   "metadata": {},
   "outputs": [],
   "source": []
  },
  {
   "cell_type": "code",
   "execution_count": 121,
   "id": "253abd24-8ba7-4caf-9242-cbf192da5890",
   "metadata": {},
   "outputs": [],
   "source": [
    "new_df = ctx.execute(\"\"\"\n",
    "    SELECT\n",
    "        borough,\n",
    "        crash_date AS day,\n",
    "        SUM(number_of_persons_injured)\n",
    "    FROM \n",
    "        crashes\n",
    "    WHERE \n",
    "        borough IS NOT NULL\n",
    "    GROUP BY \n",
    "        borough, crash_date\n",
    "\"\"\", eager=False)"
   ]
  },
  {
   "cell_type": "code",
   "execution_count": 125,
   "id": "fab83d06-5f21-4ac1-81ad-0a09cd6a3cca",
   "metadata": {},
   "outputs": [],
   "source": [
    "ctx = ctx.register(\"daily_crashes\", new_df)"
   ]
  },
  {
   "cell_type": "code",
   "execution_count": 127,
   "id": "eae2c969-1e49-4dae-a409-486f513885c0",
   "metadata": {},
   "outputs": [
    {
     "data": {
      "text/plain": [
       "['crashes', 'daily_crashes']"
      ]
     },
     "execution_count": 127,
     "metadata": {},
     "output_type": "execute_result"
    }
   ],
   "source": [
    "ctx.tables()"
   ]
  },
  {
   "cell_type": "code",
   "execution_count": 164,
   "id": "7b1d83cc-6957-4495-ab3d-e2c00cbbb1b7",
   "metadata": {},
   "outputs": [],
   "source": [
    "daily_df = ctx.execute(\"select * from daily_crashes\")"
   ]
  },
  {
   "cell_type": "code",
   "execution_count": 183,
   "id": "7fa47b9d-138a-4878-98c3-00f75920b9c5",
   "metadata": {},
   "outputs": [
    {
     "name": "stdout",
     "output_type": "stream",
     "text": [
      "naive plan: (run LazyFrame.explain(optimized=True) to see the optimized plan)\n",
      "\n",
      " SELECT [col(\"borough\"), col(\"day\"), col(\"number_of_persons_injured\")] FROM\n",
      "   SELECT [col(\"borough\"), col(\"crash_date\").alias(\"day\"), col(\"number_of_persons_injured\")] FROM\n",
      "    AGGREGATE\n",
      "    \t[col(\"number_of_persons_injured\").sum()] BY [col(\"borough\"), col(\"crash_date\")] FROM\n",
      "    \tFILTER col(\"borough\").is_not_null() FROMDF [\"crash_date\", \"crash_time\", \"borough\", \"zip_code\"]; PROJECT */30 COLUMNS; SELECTION: \"None\"\n"
     ]
    }
   ],
   "source": [
    "print(daily_df)"
   ]
  },
  {
   "cell_type": "code",
   "execution_count": 193,
   "id": "461358da-6a28-4799-a722-d2ade734ea5d",
   "metadata": {},
   "outputs": [
    {
     "ename": "InvalidOperationError",
     "evalue": "unsupported SQL function: lag",
     "output_type": "error",
     "traceback": [
      "\u001b[0;31m---------------------------------------------------------------------------\u001b[0m",
      "\u001b[0;31mInvalidOperationError\u001b[0m                     Traceback (most recent call last)",
      "Cell \u001b[0;32mIn[193], line 1\u001b[0m\n\u001b[0;32m----> 1\u001b[0m \u001b[43mctx\u001b[49m\u001b[38;5;241;43m.\u001b[39;49m\u001b[43mexecute\u001b[49m\u001b[43m(\u001b[49m\u001b[38;5;124;43m\"\"\"\u001b[39;49m\n\u001b[1;32m      2\u001b[0m \u001b[38;5;124;43m    SELECT\u001b[39;49m\n\u001b[1;32m      3\u001b[0m \u001b[38;5;124;43m        borough,\u001b[39;49m\n\u001b[1;32m      4\u001b[0m \u001b[38;5;124;43m        day,\u001b[39;49m\n\u001b[1;32m      5\u001b[0m \u001b[38;5;124;43m        number_of_persons_injured,\u001b[39;49m\n\u001b[1;32m      6\u001b[0m \u001b[38;5;124;43m        LAG(1,number_of_persons_injured) OVER (PARTITION BY borough ORDER BY day) as prior_day_injured\u001b[39;49m\n\u001b[1;32m      7\u001b[0m \u001b[38;5;124;43mFROM\u001b[39;49m\n\u001b[1;32m      8\u001b[0m \u001b[38;5;124;43m    daily_crashes\u001b[39;49m\n\u001b[1;32m      9\u001b[0m \u001b[38;5;124;43mORDER BY \u001b[39;49m\n\u001b[1;32m     10\u001b[0m \u001b[38;5;124;43m    borough,\u001b[39;49m\n\u001b[1;32m     11\u001b[0m \u001b[38;5;124;43m    day DESC\u001b[39;49m\n\u001b[1;32m     12\u001b[0m \u001b[38;5;124;43m\"\"\"\u001b[39;49m\u001b[43m,\u001b[49m\u001b[43m \u001b[49m\u001b[43meager\u001b[49m\u001b[38;5;241;43m=\u001b[39;49m\u001b[38;5;28;43;01mTrue\u001b[39;49;00m\u001b[43m)\u001b[49m\n",
      "File \u001b[0;32m~/miniforge3/envs/df_env/lib/python3.11/site-packages/polars/sql/context.py:286\u001b[0m, in \u001b[0;36mSQLContext.execute\u001b[0;34m(self, query, eager)\u001b[0m\n\u001b[1;32m    208\u001b[0m \u001b[38;5;28;01mdef\u001b[39;00m \u001b[38;5;21mexecute\u001b[39m(\u001b[38;5;28mself\u001b[39m, query: \u001b[38;5;28mstr\u001b[39m, eager: \u001b[38;5;28mbool\u001b[39m \u001b[38;5;241m|\u001b[39m \u001b[38;5;28;01mNone\u001b[39;00m \u001b[38;5;241m=\u001b[39m \u001b[38;5;28;01mNone\u001b[39;00m) \u001b[38;5;241m-\u001b[39m\u001b[38;5;241m>\u001b[39m LazyFrame \u001b[38;5;241m|\u001b[39m DataFrame:\n\u001b[1;32m    209\u001b[0m \u001b[38;5;250m    \u001b[39m\u001b[38;5;124;03m\"\"\"\u001b[39;00m\n\u001b[1;32m    210\u001b[0m \u001b[38;5;124;03m    Parse the given SQL query and execute it against the registered frame data.\u001b[39;00m\n\u001b[1;32m    211\u001b[0m \n\u001b[0;32m   (...)\u001b[0m\n\u001b[1;32m    284\u001b[0m \u001b[38;5;124;03m    └────────┴─────────────┴─────────┘\u001b[39;00m\n\u001b[1;32m    285\u001b[0m \u001b[38;5;124;03m    \"\"\"\u001b[39;00m\n\u001b[0;32m--> 286\u001b[0m     res \u001b[38;5;241m=\u001b[39m wrap_ldf(\u001b[38;5;28;43mself\u001b[39;49m\u001b[38;5;241;43m.\u001b[39;49m\u001b[43m_ctxt\u001b[49m\u001b[38;5;241;43m.\u001b[39;49m\u001b[43mexecute\u001b[49m\u001b[43m(\u001b[49m\u001b[43mquery\u001b[49m\u001b[43m)\u001b[49m)\n\u001b[1;32m    287\u001b[0m     \u001b[38;5;28;01mreturn\u001b[39;00m res\u001b[38;5;241m.\u001b[39mcollect() \u001b[38;5;28;01mif\u001b[39;00m (eager \u001b[38;5;129;01mor\u001b[39;00m \u001b[38;5;28mself\u001b[39m\u001b[38;5;241m.\u001b[39m_eager_execution) \u001b[38;5;28;01melse\u001b[39;00m res\n",
      "\u001b[0;31mInvalidOperationError\u001b[0m: unsupported SQL function: lag"
     ]
    }
   ],
   "source": [
    "ctx.execute(\"\"\"\n",
    "    SELECT\n",
    "        borough,\n",
    "        day,\n",
    "        number_of_persons_injured,\n",
    "        LAG(1,number_of_persons_injured) OVER (PARTITION BY borough ORDER BY day) as prior_day_injured\n",
    "FROM\n",
    "    daily_crashes\n",
    "ORDER BY \n",
    "    borough,\n",
    "    day DESC\n",
    "\"\"\", eager=True)"
   ]
  },
  {
   "cell_type": "code",
   "execution_count": 179,
   "id": "2102d5c0-de84-46e2-a441-3b9a4108873b",
   "metadata": {},
   "outputs": [],
   "source": [
    "non_lazy_daily_df = daily_df.collect()"
   ]
  },
  {
   "cell_type": "markdown",
   "id": "98d84eaf-cbcc-4564-a7e7-3761d0d99a43",
   "metadata": {},
   "source": [
    "EXECUTES ON LAZY DATAFRAMES!"
   ]
  },
  {
   "cell_type": "code",
   "execution_count": 180,
   "id": "215cad8a-e4b1-4f1b-9dcb-79def3a3d516",
   "metadata": {},
   "outputs": [],
   "source": [
    "import duckdb"
   ]
  },
  {
   "cell_type": "code",
   "execution_count": 181,
   "id": "0b72d3d8-f580-40b9-8922-1252f1414582",
   "metadata": {},
   "outputs": [],
   "source": [
    "query = duckdb.sql(\"\"\"\n",
    "    SELECT\n",
    "        borough,\n",
    "        day,\n",
    "        number_of_persons_injured,\n",
    "        LAG(1,number_of_persons_injured) OVER (PARTITION BY borough ORDER BY day) as prior_day_injured\n",
    "FROM\n",
    "    daily_df\n",
    "ORDER BY \n",
    "    borough,\n",
    "    day DESC\n",
    "\"\"\")"
   ]
  },
  {
   "cell_type": "code",
   "execution_count": 182,
   "id": "626b0f64-8589-4607-ac43-43008ecdf6e1",
   "metadata": {},
   "outputs": [
    {
     "data": {
      "text/plain": [
       "┌───────────────┬─────────────────────┬───────────────────────────┬───────────────────┐\n",
       "│    borough    │         day         │ number_of_persons_injured │ prior_day_injured │\n",
       "│    varchar    │      timestamp      │           int64           │       int32       │\n",
       "├───────────────┼─────────────────────┼───────────────────────────┼───────────────────┤\n",
       "│ BRONX         │ 2022-04-24 00:00:00 │                         0 │                 1 │\n",
       "│ BRONX         │ 2022-03-26 00:00:00 │                         7 │                 1 │\n",
       "│ BRONX         │ 2022-03-25 00:00:00 │                         1 │                 1 │\n",
       "│ BRONX         │ 2022-03-24 00:00:00 │                         1 │                 1 │\n",
       "│ BRONX         │ 2022-03-22 00:00:00 │                         1 │                 1 │\n",
       "│ BRONX         │ 2021-12-14 00:00:00 │                         2 │                 1 │\n",
       "│ BRONX         │ 2021-12-11 00:00:00 │                         1 │                 1 │\n",
       "│ BRONX         │ 2021-12-10 00:00:00 │                         1 │                 1 │\n",
       "│ BRONX         │ 2021-09-11 00:00:00 │                         6 │                 1 │\n",
       "│ BRONX         │ 2021-09-10 00:00:00 │                         1 │                 1 │\n",
       "│   ·           │          ·          │                         · │                 · │\n",
       "│   ·           │          ·          │                         · │                 · │\n",
       "│   ·           │          ·          │                         · │                 · │\n",
       "│ STATEN ISLAND │ 2021-12-08 00:00:00 │                         0 │                 1 │\n",
       "│ STATEN ISLAND │ 2021-09-11 00:00:00 │                         1 │                 1 │\n",
       "│ STATEN ISLAND │ 2021-09-09 00:00:00 │                         1 │                 1 │\n",
       "│ STATEN ISLAND │ 2021-09-07 00:00:00 │                         1 │                 1 │\n",
       "│ STATEN ISLAND │ 2021-09-06 00:00:00 │                         0 │                 1 │\n",
       "│ STATEN ISLAND │ 2021-07-08 00:00:00 │                         1 │                 1 │\n",
       "│ STATEN ISLAND │ 2021-04-16 00:00:00 │                         0 │                 1 │\n",
       "│ STATEN ISLAND │ 2021-04-15 00:00:00 │                         2 │                 1 │\n",
       "│ STATEN ISLAND │ 2021-04-14 00:00:00 │                         2 │              NULL │\n",
       "│ STATEN ISLAND │ 2021-04-06 00:00:00 │                         7 │              NULL │\n",
       "├───────────────┴─────────────────────┴───────────────────────────┴───────────────────┤\n",
       "│ 150 rows (20 shown)                                                       4 columns │\n",
       "└─────────────────────────────────────────────────────────────────────────────────────┘"
      ]
     },
     "execution_count": 182,
     "metadata": {},
     "output_type": "execute_result"
    }
   ],
   "source": [
    "query"
   ]
  },
  {
   "cell_type": "code",
   "execution_count": null,
   "id": "66f75399-65aa-4737-9b68-4274bb3e6e63",
   "metadata": {},
   "outputs": [],
   "source": []
  },
  {
   "cell_type": "code",
   "execution_count": 170,
   "id": "5d2e41c8-65b9-4e3e-bb5b-c4b6cb902a7d",
   "metadata": {},
   "outputs": [
    {
     "data": {
      "text/html": [
       "<div><style>\n",
       ".dataframe > thead > tr > th,\n",
       ".dataframe > tbody > tr > td {\n",
       "  text-align: right;\n",
       "}\n",
       "</style>\n",
       "<small>shape: (150, 4)</small><table border=\"1\" class=\"dataframe\"><thead><tr><th>borough</th><th>day</th><th>number_of_persons_injured</th><th>prior_day_injured</th></tr><tr><td>str</td><td>datetime[μs]</td><td>i64</td><td>i32</td></tr></thead><tbody><tr><td>&quot;BRONX&quot;</td><td>2022-04-24 00:00:00</td><td>0</td><td>1</td></tr><tr><td>&quot;BRONX&quot;</td><td>2022-03-26 00:00:00</td><td>7</td><td>1</td></tr><tr><td>&quot;BRONX&quot;</td><td>2022-03-25 00:00:00</td><td>1</td><td>1</td></tr><tr><td>&quot;BRONX&quot;</td><td>2022-03-24 00:00:00</td><td>1</td><td>1</td></tr><tr><td>&quot;BRONX&quot;</td><td>2022-03-22 00:00:00</td><td>1</td><td>1</td></tr><tr><td>&quot;BRONX&quot;</td><td>2021-12-14 00:00:00</td><td>2</td><td>1</td></tr><tr><td>&quot;BRONX&quot;</td><td>2021-12-11 00:00:00</td><td>1</td><td>1</td></tr><tr><td>&quot;BRONX&quot;</td><td>2021-12-10 00:00:00</td><td>1</td><td>1</td></tr><tr><td>&quot;BRONX&quot;</td><td>2021-09-11 00:00:00</td><td>6</td><td>1</td></tr><tr><td>&quot;BRONX&quot;</td><td>2021-09-10 00:00:00</td><td>1</td><td>1</td></tr><tr><td>&quot;BRONX&quot;</td><td>2021-07-09 00:00:00</td><td>2</td><td>1</td></tr><tr><td>&quot;BRONX&quot;</td><td>2021-07-08 00:00:00</td><td>1</td><td>1</td></tr><tr><td>&hellip;</td><td>&hellip;</td><td>&hellip;</td><td>&hellip;</td></tr><tr><td>&quot;STATEN ISLAND&quot;</td><td>2022-03-26 00:00:00</td><td>1</td><td>1</td></tr><tr><td>&quot;STATEN ISLAND&quot;</td><td>2021-12-13 00:00:00</td><td>1</td><td>1</td></tr><tr><td>&quot;STATEN ISLAND&quot;</td><td>2021-12-08 00:00:00</td><td>0</td><td>1</td></tr><tr><td>&quot;STATEN ISLAND&quot;</td><td>2021-09-11 00:00:00</td><td>1</td><td>1</td></tr><tr><td>&quot;STATEN ISLAND&quot;</td><td>2021-09-09 00:00:00</td><td>1</td><td>1</td></tr><tr><td>&quot;STATEN ISLAND&quot;</td><td>2021-09-07 00:00:00</td><td>1</td><td>1</td></tr><tr><td>&quot;STATEN ISLAND&quot;</td><td>2021-09-06 00:00:00</td><td>0</td><td>1</td></tr><tr><td>&quot;STATEN ISLAND&quot;</td><td>2021-07-08 00:00:00</td><td>1</td><td>1</td></tr><tr><td>&quot;STATEN ISLAND&quot;</td><td>2021-04-16 00:00:00</td><td>0</td><td>1</td></tr><tr><td>&quot;STATEN ISLAND&quot;</td><td>2021-04-15 00:00:00</td><td>2</td><td>1</td></tr><tr><td>&quot;STATEN ISLAND&quot;</td><td>2021-04-14 00:00:00</td><td>2</td><td>null</td></tr><tr><td>&quot;STATEN ISLAND&quot;</td><td>2021-04-06 00:00:00</td><td>7</td><td>null</td></tr></tbody></table></div>"
      ],
      "text/plain": [
       "shape: (150, 4)\n",
       "┌───────────────┬─────────────────────┬───────────────────────────┬───────────────────┐\n",
       "│ borough       ┆ day                 ┆ number_of_persons_injured ┆ prior_day_injured │\n",
       "│ ---           ┆ ---                 ┆ ---                       ┆ ---               │\n",
       "│ str           ┆ datetime[μs]        ┆ i64                       ┆ i32               │\n",
       "╞═══════════════╪═════════════════════╪═══════════════════════════╪═══════════════════╡\n",
       "│ BRONX         ┆ 2022-04-24 00:00:00 ┆ 0                         ┆ 1                 │\n",
       "│ BRONX         ┆ 2022-03-26 00:00:00 ┆ 7                         ┆ 1                 │\n",
       "│ BRONX         ┆ 2022-03-25 00:00:00 ┆ 1                         ┆ 1                 │\n",
       "│ BRONX         ┆ 2022-03-24 00:00:00 ┆ 1                         ┆ 1                 │\n",
       "│ …             ┆ …                   ┆ …                         ┆ …                 │\n",
       "│ STATEN ISLAND ┆ 2021-04-16 00:00:00 ┆ 0                         ┆ 1                 │\n",
       "│ STATEN ISLAND ┆ 2021-04-15 00:00:00 ┆ 2                         ┆ 1                 │\n",
       "│ STATEN ISLAND ┆ 2021-04-14 00:00:00 ┆ 2                         ┆ null              │\n",
       "│ STATEN ISLAND ┆ 2021-04-06 00:00:00 ┆ 7                         ┆ null              │\n",
       "└───────────────┴─────────────────────┴───────────────────────────┴───────────────────┘"
      ]
     },
     "execution_count": 170,
     "metadata": {},
     "output_type": "execute_result"
    }
   ],
   "source": [
    "query.pl()"
   ]
  },
  {
   "cell_type": "markdown",
   "id": "a5f5c1c9-0a5e-486b-aaa6-cd082ad331f3",
   "metadata": {},
   "source": [
    "Cummulative Sum!"
   ]
  },
  {
   "cell_type": "code",
   "execution_count": 188,
   "id": "dd8deafd-a6b6-4047-ab55-5dba4039794a",
   "metadata": {},
   "outputs": [
    {
     "data": {
      "text/html": [
       "<div><style>\n",
       ".dataframe > thead > tr > th,\n",
       ".dataframe > tbody > tr > td {\n",
       "  text-align: right;\n",
       "}\n",
       "</style>\n",
       "<small>shape: (5, 4)</small><table border=\"1\" class=\"dataframe\"><thead><tr><th>borough</th><th>day</th><th>number_of_persons_injured</th><th>cumulative_injuried</th></tr><tr><td>str</td><td>datetime[μs]</td><td>i64</td><td>i64</td></tr></thead><tbody><tr><td>&quot;BRONX&quot;</td><td>2022-04-24 00:00:00</td><td>0</td><td>45</td></tr><tr><td>&quot;BRONX&quot;</td><td>2022-03-26 00:00:00</td><td>7</td><td>45</td></tr><tr><td>&quot;BRONX&quot;</td><td>2022-03-25 00:00:00</td><td>1</td><td>45</td></tr><tr><td>&quot;BRONX&quot;</td><td>2022-03-24 00:00:00</td><td>1</td><td>45</td></tr><tr><td>&quot;BRONX&quot;</td><td>2022-03-22 00:00:00</td><td>1</td><td>45</td></tr></tbody></table></div>"
      ],
      "text/plain": [
       "shape: (5, 4)\n",
       "┌─────────┬─────────────────────┬───────────────────────────┬─────────────────────┐\n",
       "│ borough ┆ day                 ┆ number_of_persons_injured ┆ cumulative_injuried │\n",
       "│ ---     ┆ ---                 ┆ ---                       ┆ ---                 │\n",
       "│ str     ┆ datetime[μs]        ┆ i64                       ┆ i64                 │\n",
       "╞═════════╪═════════════════════╪═══════════════════════════╪═════════════════════╡\n",
       "│ BRONX   ┆ 2022-04-24 00:00:00 ┆ 0                         ┆ 45                  │\n",
       "│ BRONX   ┆ 2022-03-26 00:00:00 ┆ 7                         ┆ 45                  │\n",
       "│ BRONX   ┆ 2022-03-25 00:00:00 ┆ 1                         ┆ 45                  │\n",
       "│ BRONX   ┆ 2022-03-24 00:00:00 ┆ 1                         ┆ 45                  │\n",
       "│ BRONX   ┆ 2022-03-22 00:00:00 ┆ 1                         ┆ 45                  │\n",
       "└─────────┴─────────────────────┴───────────────────────────┴─────────────────────┘"
      ]
     },
     "execution_count": 188,
     "metadata": {},
     "output_type": "execute_result"
    }
   ],
   "source": [
    "ctx.execute(\"\"\"\n",
    "    SELECT\n",
    "        borough,\n",
    "        day,\n",
    "        number_of_persons_injured,\n",
    "        SUM(number_of_persons_injured) OVER (\n",
    "                            PARTITION BY borough \n",
    "                            ORDER BY day ASC) AS cumulative_injuried\n",
    "    FROM \n",
    "        daily_crashes\n",
    "    ORDER BY\n",
    "        borough,\n",
    "        day DESC\n",
    "\"\"\", eager=True).head(5)"
   ]
  },
  {
   "cell_type": "markdown",
   "id": "e1daeae5-cd40-4c7c-aaaf-d373da92e832",
   "metadata": {},
   "source": [
    "WRONG!"
   ]
  },
  {
   "cell_type": "code",
   "execution_count": 191,
   "id": "c016a097-4ca5-42d7-a36c-e13c1efcb8e4",
   "metadata": {},
   "outputs": [],
   "source": [
    "query = duckdb.sql(\"\"\"\n",
    "    SELECT\n",
    "        borough,\n",
    "        day,\n",
    "        number_of_persons_injured,\n",
    "        SUM(number_of_persons_injured) OVER (\n",
    "                            PARTITION BY borough \n",
    "                            ORDER BY day ASC) AS cumulative_injuried\n",
    "    FROM \n",
    "        daily_df\n",
    "    ORDER BY\n",
    "        borough,\n",
    "        day ASC\n",
    "\"\"\")"
   ]
  },
  {
   "cell_type": "code",
   "execution_count": 192,
   "id": "d39cc91f-81a2-431e-b3be-5a2bf26b1094",
   "metadata": {},
   "outputs": [
    {
     "data": {
      "text/plain": [
       "┌───────────────┬─────────────────────┬───────────────────────────┬─────────────────────┐\n",
       "│    borough    │         day         │ number_of_persons_injured │ cumulative_injuried │\n",
       "│    varchar    │      timestamp      │           int64           │       int128        │\n",
       "├───────────────┼─────────────────────┼───────────────────────────┼─────────────────────┤\n",
       "│ BRONX         │ 2021-02-26 00:00:00 │                         0 │                   0 │\n",
       "│ BRONX         │ 2021-04-06 00:00:00 │                         0 │                   0 │\n",
       "│ BRONX         │ 2021-04-08 00:00:00 │                         0 │                   0 │\n",
       "│ BRONX         │ 2021-04-10 00:00:00 │                         4 │                   4 │\n",
       "│ BRONX         │ 2021-04-11 00:00:00 │                         0 │                   4 │\n",
       "│ BRONX         │ 2021-04-12 00:00:00 │                         0 │                   4 │\n",
       "│ BRONX         │ 2021-04-13 00:00:00 │                         3 │                   7 │\n",
       "│ BRONX         │ 2021-04-14 00:00:00 │                         3 │                  10 │\n",
       "│ BRONX         │ 2021-04-15 00:00:00 │                         4 │                  14 │\n",
       "│ BRONX         │ 2021-04-16 00:00:00 │                         6 │                  20 │\n",
       "│   ·           │          ·          │                         · │                   · │\n",
       "│   ·           │          ·          │                         · │                   · │\n",
       "│   ·           │          ·          │                         · │                   · │\n",
       "│ STATEN ISLAND │ 2021-04-15 00:00:00 │                         2 │                  11 │\n",
       "│ STATEN ISLAND │ 2021-04-16 00:00:00 │                         0 │                  11 │\n",
       "│ STATEN ISLAND │ 2021-07-08 00:00:00 │                         1 │                  12 │\n",
       "│ STATEN ISLAND │ 2021-09-06 00:00:00 │                         0 │                  12 │\n",
       "│ STATEN ISLAND │ 2021-09-07 00:00:00 │                         1 │                  13 │\n",
       "│ STATEN ISLAND │ 2021-09-09 00:00:00 │                         1 │                  14 │\n",
       "│ STATEN ISLAND │ 2021-09-11 00:00:00 │                         1 │                  15 │\n",
       "│ STATEN ISLAND │ 2021-12-08 00:00:00 │                         0 │                  15 │\n",
       "│ STATEN ISLAND │ 2021-12-13 00:00:00 │                         1 │                  16 │\n",
       "│ STATEN ISLAND │ 2022-03-26 00:00:00 │                         1 │                  17 │\n",
       "├───────────────┴─────────────────────┴───────────────────────────┴─────────────────────┤\n",
       "│ 150 rows (20 shown)                                                         4 columns │\n",
       "└───────────────────────────────────────────────────────────────────────────────────────┘"
      ]
     },
     "execution_count": 192,
     "metadata": {},
     "output_type": "execute_result"
    }
   ],
   "source": [
    "query"
   ]
  },
  {
   "cell_type": "code",
   "execution_count": null,
   "id": "691ef930-4bf2-417f-b5d1-deb8b02b9095",
   "metadata": {},
   "outputs": [],
   "source": []
  },
  {
   "cell_type": "code",
   "execution_count": null,
   "id": "dc6f35cf-567c-4905-a1a9-72d92348eef7",
   "metadata": {},
   "outputs": [],
   "source": []
  },
  {
   "cell_type": "code",
   "execution_count": null,
   "id": "83d014f2-6f9f-4de2-8ad1-0bfcb69f8e49",
   "metadata": {},
   "outputs": [],
   "source": []
  },
  {
   "cell_type": "code",
   "execution_count": null,
   "id": "5aa3bd44-c441-4f79-9797-4b2190fe751c",
   "metadata": {},
   "outputs": [],
   "source": []
  },
  {
   "cell_type": "code",
   "execution_count": null,
   "id": "80b295d1-66ad-4062-bdc0-07f8dfa49610",
   "metadata": {},
   "outputs": [],
   "source": [
    "new_df = df.join(borough_df, on=[\"borough\"], how=\"left\")"
   ]
  },
  {
   "cell_type": "code",
   "execution_count": 10,
   "id": "c09c37af-71b4-4e0c-b913-d52a051b99af",
   "metadata": {},
   "outputs": [],
   "source": [
    "# new_df.write_parquet(\"s3://harmonskis/nyc_accidents.parquet\")"
   ]
  },
  {
   "cell_type": "code",
   "execution_count": null,
   "id": "544669b8-2fe0-4262-87fa-a66629de1cf7",
   "metadata": {},
   "outputs": [],
   "source": []
  }
 ],
 "metadata": {
  "kernelspec": {
   "display_name": "Python 3 (ipykernel)",
   "language": "python",
   "name": "python3"
  },
  "language_info": {
   "codemirror_mode": {
    "name": "ipython",
    "version": 3
   },
   "file_extension": ".py",
   "mimetype": "text/x-python",
   "name": "python",
   "nbconvert_exporter": "python",
   "pygments_lexer": "ipython3",
   "version": "3.10.11"
  }
 },
 "nbformat": 4,
 "nbformat_minor": 5
}
