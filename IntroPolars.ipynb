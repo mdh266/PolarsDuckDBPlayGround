{
 "cells": [
  {
   "cell_type": "code",
   "execution_count": 1,
   "id": "fae20ba4-00fa-4c9a-ba62-5802e43ea982",
   "metadata": {},
   "outputs": [],
   "source": [
    "import polars as pl"
   ]
  },
  {
   "cell_type": "code",
   "execution_count": 2,
   "id": "0694c4ec-eb01-459b-b69b-fd2e446faec0",
   "metadata": {},
   "outputs": [],
   "source": [
    "df = pl.read_csv(\"https://data.cityofnewyork.us/resource/h9gi-nx95.csv\")"
   ]
  },
  {
   "cell_type": "code",
   "execution_count": 3,
   "id": "91d4fb7f-77a7-4b01-b848-7cedaac6d89a",
   "metadata": {},
   "outputs": [
    {
     "data": {
      "text/html": [
       "<div><style>\n",
       ".dataframe > thead > tr > th,\n",
       ".dataframe > tbody > tr > td {\n",
       "  text-align: right;\n",
       "}\n",
       "</style>\n",
       "<small>shape: (2, 29)</small><table border=\"1\" class=\"dataframe\"><thead><tr><th>crash_date</th><th>crash_time</th><th>borough</th><th>zip_code</th><th>latitude</th><th>longitude</th><th>location</th><th>on_street_name</th><th>off_street_name</th><th>cross_street_name</th><th>number_of_persons_injured</th><th>number_of_persons_killed</th><th>number_of_pedestrians_injured</th><th>number_of_pedestrians_killed</th><th>number_of_cyclist_injured</th><th>number_of_cyclist_killed</th><th>number_of_motorist_injured</th><th>number_of_motorist_killed</th><th>contributing_factor_vehicle_1</th><th>contributing_factor_vehicle_2</th><th>contributing_factor_vehicle_3</th><th>contributing_factor_vehicle_4</th><th>contributing_factor_vehicle_5</th><th>collision_id</th><th>vehicle_type_code1</th><th>vehicle_type_code2</th><th>vehicle_type_code_3</th><th>vehicle_type_code_4</th><th>vehicle_type_code_5</th></tr><tr><td>str</td><td>str</td><td>str</td><td>i64</td><td>f64</td><td>f64</td><td>str</td><td>str</td><td>str</td><td>str</td><td>i64</td><td>i64</td><td>i64</td><td>i64</td><td>i64</td><td>i64</td><td>i64</td><td>i64</td><td>str</td><td>str</td><td>str</td><td>str</td><td>str</td><td>i64</td><td>str</td><td>str</td><td>str</td><td>str</td><td>str</td></tr></thead><tbody><tr><td>&quot;2021-09-11T00:…</td><td>&quot;2:39&quot;</td><td>null</td><td>null</td><td>null</td><td>null</td><td>null</td><td>&quot;WHITESTONE EXP…</td><td>&quot;20 AVENUE&quot;</td><td>null</td><td>2</td><td>0</td><td>0</td><td>0</td><td>0</td><td>0</td><td>2</td><td>0</td><td>&quot;Aggressive Dri…</td><td>&quot;Unspecified&quot;</td><td>null</td><td>null</td><td>null</td><td>4455765</td><td>&quot;Sedan&quot;</td><td>&quot;Sedan&quot;</td><td>null</td><td>null</td><td>null</td></tr><tr><td>&quot;2022-03-26T00:…</td><td>&quot;11:45&quot;</td><td>null</td><td>null</td><td>null</td><td>null</td><td>null</td><td>&quot;QUEENSBORO BRI…</td><td>null</td><td>null</td><td>1</td><td>0</td><td>0</td><td>0</td><td>0</td><td>0</td><td>1</td><td>0</td><td>&quot;Pavement Slipp…</td><td>null</td><td>null</td><td>null</td><td>null</td><td>4513547</td><td>&quot;Sedan&quot;</td><td>null</td><td>null</td><td>null</td><td>null</td></tr></tbody></table></div>"
      ],
      "text/plain": [
       "shape: (2, 29)\n",
       "┌──────────┬──────────┬─────────┬──────────┬───┬────────────┬────────────┬────────────┬────────────┐\n",
       "│ crash_da ┆ crash_ti ┆ borough ┆ zip_code ┆ … ┆ vehicle_ty ┆ vehicle_ty ┆ vehicle_ty ┆ vehicle_ty │\n",
       "│ te       ┆ me       ┆ ---     ┆ ---      ┆   ┆ pe_code2   ┆ pe_code_3  ┆ pe_code_4  ┆ pe_code_5  │\n",
       "│ ---      ┆ ---      ┆ str     ┆ i64      ┆   ┆ ---        ┆ ---        ┆ ---        ┆ ---        │\n",
       "│ str      ┆ str      ┆         ┆          ┆   ┆ str        ┆ str        ┆ str        ┆ str        │\n",
       "╞══════════╪══════════╪═════════╪══════════╪═══╪════════════╪════════════╪════════════╪════════════╡\n",
       "│ 2021-09- ┆ 2:39     ┆ null    ┆ null     ┆ … ┆ Sedan      ┆ null       ┆ null       ┆ null       │\n",
       "│ 11T00:00 ┆          ┆         ┆          ┆   ┆            ┆            ┆            ┆            │\n",
       "│ :00.000  ┆          ┆         ┆          ┆   ┆            ┆            ┆            ┆            │\n",
       "│ 2022-03- ┆ 11:45    ┆ null    ┆ null     ┆ … ┆ null       ┆ null       ┆ null       ┆ null       │\n",
       "│ 26T00:00 ┆          ┆         ┆          ┆   ┆            ┆            ┆            ┆            │\n",
       "│ :00.000  ┆          ┆         ┆          ┆   ┆            ┆            ┆            ┆            │\n",
       "└──────────┴──────────┴─────────┴──────────┴───┴────────────┴────────────┴────────────┴────────────┘"
      ]
     },
     "execution_count": 3,
     "metadata": {},
     "output_type": "execute_result"
    }
   ],
   "source": [
    "df.head(2)"
   ]
  },
  {
   "cell_type": "code",
   "execution_count": 34,
   "id": "dafbf2d6-58ac-47d9-982d-5e9fc58aa709",
   "metadata": {},
   "outputs": [
    {
     "data": {
      "text/plain": [
       "{'crash_date': Utf8,\n",
       " 'crash_time': Utf8,\n",
       " 'borough': Utf8,\n",
       " 'zip_code': Int64,\n",
       " 'latitude': Float64,\n",
       " 'longitude': Float64,\n",
       " 'location': Utf8,\n",
       " 'on_street_name': Utf8,\n",
       " 'off_street_name': Utf8,\n",
       " 'cross_street_name': Utf8,\n",
       " 'number_of_persons_injured': Int64,\n",
       " 'number_of_persons_killed': Int64,\n",
       " 'number_of_pedestrians_injured': Int64,\n",
       " 'number_of_pedestrians_killed': Int64,\n",
       " 'number_of_cyclist_injured': Int64,\n",
       " 'number_of_cyclist_killed': Int64,\n",
       " 'number_of_motorist_injured': Int64,\n",
       " 'number_of_motorist_killed': Int64,\n",
       " 'contributing_factor_vehicle_1': Utf8,\n",
       " 'contributing_factor_vehicle_2': Utf8,\n",
       " 'contributing_factor_vehicle_3': Utf8,\n",
       " 'contributing_factor_vehicle_4': Utf8,\n",
       " 'contributing_factor_vehicle_5': Utf8,\n",
       " 'collision_id': Int64,\n",
       " 'vehicle_type_code1': Utf8,\n",
       " 'vehicle_type_code2': Utf8,\n",
       " 'vehicle_type_code_3': Utf8,\n",
       " 'vehicle_type_code_4': Utf8,\n",
       " 'vehicle_type_code_5': Utf8}"
      ]
     },
     "execution_count": 34,
     "metadata": {},
     "output_type": "execute_result"
    }
   ],
   "source": [
    "df.schema"
   ]
  },
  {
   "cell_type": "code",
   "execution_count": 26,
   "id": "3a16fb05-51e1-4697-a72e-e96eefd28c9e",
   "metadata": {},
   "outputs": [
    {
     "data": {
      "text/html": [
       "<div><style>\n",
       ".dataframe > thead > tr > th,\n",
       ".dataframe > tbody > tr > td {\n",
       "  text-align: right;\n",
       "}\n",
       "</style>\n",
       "<small>shape: (0, 2)</small><table border=\"1\" class=\"dataframe\"><thead><tr><th>collision_id</th><th>count</th></tr><tr><td>i64</td><td>u32</td></tr></thead><tbody></tbody></table></div>"
      ],
      "text/plain": [
       "shape: (0, 2)\n",
       "┌──────────────┬───────┐\n",
       "│ collision_id ┆ count │\n",
       "│ ---          ┆ ---   │\n",
       "│ i64          ┆ u32   │\n",
       "╞══════════════╪═══════╡\n",
       "└──────────────┴───────┘"
      ]
     },
     "execution_count": 26,
     "metadata": {},
     "output_type": "execute_result"
    }
   ],
   "source": [
    "(df.groupby(\"collision_id\")\n",
    "   .count()\n",
    "   .filter(pl.col(\"count\") > 1))"
   ]
  },
  {
   "cell_type": "code",
   "execution_count": 7,
   "id": "d0f3b0ae-9f70-4504-a74b-f2823ac1bd41",
   "metadata": {},
   "outputs": [],
   "source": [
    "# df.with_columns(\n",
    "#     pl.col(\"crash_date\")."
   ]
  },
  {
   "cell_type": "code",
   "execution_count": 7,
   "id": "18b045c9-1ec2-4ebd-86fc-7fd13d700e1f",
   "metadata": {},
   "outputs": [
    {
     "data": {
      "text/html": [
       "<div><style>\n",
       ".dataframe > thead > tr > th,\n",
       ".dataframe > tbody > tr > td {\n",
       "  text-align: right;\n",
       "}\n",
       "</style>\n",
       "<small>shape: (6, 2)</small><table border=\"1\" class=\"dataframe\"><thead><tr><th>borough</th><th>count</th></tr><tr><td>str</td><td>u32</td></tr></thead><tbody><tr><td>&quot;QUEENS&quot;</td><td>154</td></tr><tr><td>&quot;BRONX&quot;</td><td>107</td></tr><tr><td>&quot;MANHATTAN&quot;</td><td>98</td></tr><tr><td>&quot;STATEN ISLAND&quot;</td><td>27</td></tr><tr><td>&quot;BROOKLYN&quot;</td><td>247</td></tr><tr><td>null</td><td>367</td></tr></tbody></table></div>"
      ],
      "text/plain": [
       "shape: (6, 2)\n",
       "┌───────────────┬───────┐\n",
       "│ borough       ┆ count │\n",
       "│ ---           ┆ ---   │\n",
       "│ str           ┆ u32   │\n",
       "╞═══════════════╪═══════╡\n",
       "│ QUEENS        ┆ 154   │\n",
       "│ BRONX         ┆ 107   │\n",
       "│ MANHATTAN     ┆ 98    │\n",
       "│ STATEN ISLAND ┆ 27    │\n",
       "│ BROOKLYN      ┆ 247   │\n",
       "│ null          ┆ 367   │\n",
       "└───────────────┴───────┘"
      ]
     },
     "execution_count": 7,
     "metadata": {},
     "output_type": "execute_result"
    }
   ],
   "source": [
    "df.groupby(\"borough\").count()"
   ]
  },
  {
   "cell_type": "code",
   "execution_count": 9,
   "id": "1682237a-b41e-4042-95e5-a4a5922b9088",
   "metadata": {},
   "outputs": [],
   "source": [
    "nn_df = df.filter(pl.col(\"borough\").is_not_null())"
   ]
  },
  {
   "cell_type": "code",
   "execution_count": 20,
   "id": "8e2dd6e6-8e72-430c-8160-cedbae02ca3c",
   "metadata": {},
   "outputs": [
    {
     "data": {
      "text/html": [
       "<div><style>\n",
       ".dataframe > thead > tr > th,\n",
       ".dataframe > tbody > tr > td {\n",
       "  text-align: right;\n",
       "}\n",
       "</style>\n",
       "<small>shape: (5, 1)</small><table border=\"1\" class=\"dataframe\"><thead><tr><th>borough</th></tr><tr><td>str</td></tr></thead><tbody><tr><td>&quot;QUEENS&quot;</td></tr><tr><td>&quot;MANHATTAN&quot;</td></tr><tr><td>&quot;STATEN ISLAND&quot;</td></tr><tr><td>&quot;BRONX&quot;</td></tr><tr><td>&quot;BROOKLYN&quot;</td></tr></tbody></table></div>"
      ],
      "text/plain": [
       "shape: (5, 1)\n",
       "┌───────────────┐\n",
       "│ borough       │\n",
       "│ ---           │\n",
       "│ str           │\n",
       "╞═══════════════╡\n",
       "│ QUEENS        │\n",
       "│ MANHATTAN     │\n",
       "│ STATEN ISLAND │\n",
       "│ BRONX         │\n",
       "│ BROOKLYN      │\n",
       "└───────────────┘"
      ]
     },
     "execution_count": 20,
     "metadata": {},
     "output_type": "execute_result"
    }
   ],
   "source": [
    "df.filter(pl.col(\"borough\").is_not_null()).select(\"borough\").unique()"
   ]
  },
  {
   "cell_type": "code",
   "execution_count": 4,
   "id": "dcf1932d-95f7-4efc-8681-acafb3d2e1ed",
   "metadata": {},
   "outputs": [],
   "source": [
    "borough_df = pl.DataFrame({\n",
    "                \"borough\": [\"BROOKLYN\", \"BRONX\", \"MANHATTAN\", \"STATEN ISLAND\", \"QUEENS\"],\n",
    "                \"population\": [2590516, 1379946, 1596273, 2278029, 378977],\n",
    "                \"area\":[179.7, 109.2, 58.68, 281.6, 149.0]\n",
    "})"
   ]
  },
  {
   "cell_type": "code",
   "execution_count": 42,
   "id": "06db93ed-9664-46aa-bae2-c6d05e0aeff0",
   "metadata": {},
   "outputs": [
    {
     "data": {
      "text/html": [
       "<div><style>\n",
       ".dataframe > thead > tr > th,\n",
       ".dataframe > tbody > tr > td {\n",
       "  text-align: right;\n",
       "}\n",
       "</style>\n",
       "<small>shape: (5, 2)</small><table border=\"1\" class=\"dataframe\"><thead><tr><th>borough</th><th>injuries_per_population</th></tr><tr><td>str</td><td>f64</td></tr></thead><tbody><tr><td>&quot;BROOKLYN&quot;</td><td>0.000045</td></tr><tr><td>&quot;BRONX&quot;</td><td>0.000033</td></tr><tr><td>&quot;MANHATTAN&quot;</td><td>0.000025</td></tr><tr><td>&quot;STATEN ISLAND&quot;</td><td>0.000007</td></tr><tr><td>&quot;QUEENS&quot;</td><td>0.000193</td></tr></tbody></table></div>"
      ],
      "text/plain": [
       "shape: (5, 2)\n",
       "┌───────────────┬─────────────────────────┐\n",
       "│ borough       ┆ injuries_per_population │\n",
       "│ ---           ┆ ---                     │\n",
       "│ str           ┆ f64                     │\n",
       "╞═══════════════╪═════════════════════════╡\n",
       "│ BROOKLYN      ┆ 0.000045                │\n",
       "│ BRONX         ┆ 0.000033                │\n",
       "│ MANHATTAN     ┆ 0.000025                │\n",
       "│ STATEN ISLAND ┆ 0.000007                │\n",
       "│ QUEENS        ┆ 0.000193                │\n",
       "└───────────────┴─────────────────────────┘"
      ]
     },
     "execution_count": 42,
     "metadata": {},
     "output_type": "execute_result"
    }
   ],
   "source": [
    "(df.filter(pl.col(\"borough\").is_not_null())\n",
    "   .select([\"borough\", \"number_of_persons_injured\"])\n",
    "   .groupby(\"borough\")\n",
    "   .sum()\n",
    "   .join(borough_df, on=[\"borough\"])\n",
    "   .select([\n",
    "       \"borough\", \n",
    "       (pl.col(\"number_of_persons_injured\") / pl.col(\"population\")).alias(\"injuries_per_population\")\n",
    "   ])\n",
    ")"
   ]
  },
  {
   "cell_type": "code",
   "execution_count": 5,
   "id": "0b72d3d8-f580-40b9-8922-1252f1414582",
   "metadata": {},
   "outputs": [],
   "source": [
    "new_df = df.join(borough_df, on=[\"borough\"], how=\"left\")"
   ]
  },
  {
   "cell_type": "code",
   "execution_count": 9,
   "id": "c09c37af-71b4-4e0c-b913-d52a051b99af",
   "metadata": {},
   "outputs": [
    {
     "name": "stderr",
     "output_type": "stream",
     "text": [
      "thread '<unnamed>' panicked at 'called `Result::unwrap()` on an `Err` value: Os { code: 2, kind: NotFound, message: \"No such file or directory\" }', src/dataframe.rs:713:46\n",
      "note: run with `RUST_BACKTRACE=1` environment variable to display a backtrace\n"
     ]
    },
    {
     "ename": "PanicException",
     "evalue": "called `Result::unwrap()` on an `Err` value: Os { code: 2, kind: NotFound, message: \"No such file or directory\" }",
     "output_type": "error",
     "traceback": [
      "\u001b[0;31m---------------------------------------------------------------------------\u001b[0m",
      "\u001b[0;31mPanicException\u001b[0m                            Traceback (most recent call last)",
      "Cell \u001b[0;32mIn[9], line 1\u001b[0m\n\u001b[0;32m----> 1\u001b[0m \u001b[43mnew_df\u001b[49m\u001b[38;5;241;43m.\u001b[39;49m\u001b[43mwrite_parquet\u001b[49m\u001b[43m(\u001b[49m\u001b[38;5;124;43m\"\u001b[39;49m\u001b[38;5;124;43ms3://harmonskis/nyc_accidents.parquet\u001b[39;49m\u001b[38;5;124;43m\"\u001b[39;49m\u001b[43m)\u001b[49m\n",
      "File \u001b[0;32m~/miniforge3/envs/df_env/lib/python3.11/site-packages/polars/dataframe/frame.py:3091\u001b[0m, in \u001b[0;36mDataFrame.write_parquet\u001b[0;34m(self, file, compression, compression_level, statistics, row_group_size, use_pyarrow, pyarrow_options)\u001b[0m\n\u001b[1;32m   3081\u001b[0m     pa\u001b[38;5;241m.\u001b[39mparquet\u001b[38;5;241m.\u001b[39mwrite_table(\n\u001b[1;32m   3082\u001b[0m         table\u001b[38;5;241m=\u001b[39mtbl,\n\u001b[1;32m   3083\u001b[0m         where\u001b[38;5;241m=\u001b[39mfile,\n\u001b[0;32m   (...)\u001b[0m\n\u001b[1;32m   3088\u001b[0m         \u001b[38;5;241m*\u001b[39m\u001b[38;5;241m*\u001b[39m(pyarrow_options \u001b[38;5;129;01mor\u001b[39;00m {}),\n\u001b[1;32m   3089\u001b[0m     )\n\u001b[1;32m   3090\u001b[0m \u001b[38;5;28;01melse\u001b[39;00m:\n\u001b[0;32m-> 3091\u001b[0m     \u001b[38;5;28;43mself\u001b[39;49m\u001b[38;5;241;43m.\u001b[39;49m\u001b[43m_df\u001b[49m\u001b[38;5;241;43m.\u001b[39;49m\u001b[43mwrite_parquet\u001b[49m\u001b[43m(\u001b[49m\n\u001b[1;32m   3092\u001b[0m \u001b[43m        \u001b[49m\u001b[43mfile\u001b[49m\u001b[43m,\u001b[49m\u001b[43m \u001b[49m\u001b[43mcompression\u001b[49m\u001b[43m,\u001b[49m\u001b[43m \u001b[49m\u001b[43mcompression_level\u001b[49m\u001b[43m,\u001b[49m\u001b[43m \u001b[49m\u001b[43mstatistics\u001b[49m\u001b[43m,\u001b[49m\u001b[43m \u001b[49m\u001b[43mrow_group_size\u001b[49m\n\u001b[1;32m   3093\u001b[0m \u001b[43m    \u001b[49m\u001b[43m)\u001b[49m\n",
      "\u001b[0;31mPanicException\u001b[0m: called `Result::unwrap()` on an `Err` value: Os { code: 2, kind: NotFound, message: \"No such file or directory\" }"
     ]
    }
   ],
   "source": [
    "new_df.write_parquet(\"s3://harmonskis/nyc_accidents.parquet\")"
   ]
  },
  {
   "cell_type": "code",
   "execution_count": null,
   "id": "544669b8-2fe0-4262-87fa-a66629de1cf7",
   "metadata": {},
   "outputs": [],
   "source": []
  }
 ],
 "metadata": {
  "kernelspec": {
   "display_name": "Python (polars))",
   "language": "python",
   "name": "df_env"
  },
  "language_info": {
   "codemirror_mode": {
    "name": "ipython",
    "version": 3
   },
   "file_extension": ".py",
   "mimetype": "text/x-python",
   "name": "python",
   "nbconvert_exporter": "python",
   "pygments_lexer": "ipython3",
   "version": "3.11.4"
  }
 },
 "nbformat": 4,
 "nbformat_minor": 5
}
